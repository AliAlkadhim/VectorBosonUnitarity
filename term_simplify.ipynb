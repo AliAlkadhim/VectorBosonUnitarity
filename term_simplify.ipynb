{
 "cells": [
  {
   "cell_type": "code",
   "execution_count": 37,
   "id": "dc560ac9-7525-4188-85bd-22c863e396ab",
   "metadata": {},
   "outputs": [],
   "source": [
    "from sympy import *\n",
    "import sympy as sp\n",
    "init_printing()"
   ]
  },
  {
   "cell_type": "code",
   "execution_count": 60,
   "id": "a2ddfe9b-c0b5-42d4-bf4b-203c764d2df5",
   "metadata": {},
   "outputs": [],
   "source": [
    "gwwz, mw, mz, E, s, u, t, theta= symbols(\"gwwz, mw, mz, E, s, u, t, \\theta\")"
   ]
  },
  {
   "cell_type": "code",
   "execution_count": 49,
   "id": "8b93cce4-272a-461e-8497-e82f3558c95f",
   "metadata": {},
   "outputs": [
    {
     "data": {
      "image/png": "[encoded data removed]",
      "text/latex": [
       "$\\displaystyle - \\frac{0.25 gwwz^{2} mz^{2} s u}{mw^{4}}$"
      ],
      "text/plain": [
       "          2   2     \n",
       "-0.25⋅gwwz ⋅mz ⋅s⋅u \n",
       "────────────────────\n",
       "          4         \n",
       "        mw          "
      ]
     },
     "execution_count": 49,
     "metadata": {},
     "output_type": "execute_result"
    }
   ],
   "source": [
    "Ms = gwwz**2 *mw**-4 * mz**2 * E**2 * (  - 1/4 * s )\n",
    "\n",
    "+ gwwz**2 * mw**-2 * mz**-2 * E**4 * ( 1/2 * s*u + 1/4 * s**2 )\n",
    "\n",
    "+ gwwz**2 * mw**-2 * (s+u)**-1 * E**2 * ( s**2 )\n",
    "\n",
    "+ gwwz**2 * mw**-2 * E**2 * (  - u - 1/2 * s )\n",
    "\n",
    "+ gwwz**2 * mz**-2 * (s+u)**-1 * E**2 * ( s**2 )\n",
    "\n",
    "+ gwwz**2 * mz**-2 * E**2 * (  - 1/2 * u - s )\n",
    "l = Ms.factor(gwwz**2 / (mw**2 * mz**2))\n",
    "g = Ms.subs(E,sqrt(u))\n",
    "g"
   ]
  },
  {
   "cell_type": "code",
   "execution_count": 52,
   "id": "d1c31350-0cdb-4637-8a67-bd0bb9696ea2",
   "metadata": {},
   "outputs": [
    {
     "data": {
      "image/png": "[encoded data removed]",
      "text/latex": [
       "$\\displaystyle \\frac{gwwz^{2} \\left(- 2 mw^{4} u \\left(3 s + u\\right) + 2 mw^{2} mz^{2} s \\left(s - 3 u\\right) - 4 mw^{2} mz^{2} u^{2} + mw^{2} s \\left(s + u\\right) \\left(s + 2 u\\right) + mz^{4} \\left(- s - u\\right)\\right)}{4 mw^{4} mz^{2} \\left(s + u\\right)}$"
      ],
      "text/plain": [
       "    2 ⎛      4                   2   2                   2   2  2     2                         4         ⎞\n",
       "gwwz ⋅⎝- 2⋅mw ⋅u⋅(3⋅s + u) + 2⋅mw ⋅mz ⋅s⋅(s - 3⋅u) - 4⋅mw ⋅mz ⋅u  + mw ⋅s⋅(s + u)⋅(s + 2⋅u) + mz ⋅(-s - u)⎠\n",
       "───────────────────────────────────────────────────────────────────────────────────────────────────────────\n",
       "                                                 4   2                                                     \n",
       "                                             4⋅mw ⋅mz ⋅(s + u)                                             "
      ]
     },
     "execution_count": 52,
     "metadata": {},
     "output_type": "execute_result"
    }
   ],
   "source": [
    "shwartz_Ms = (gwwz**2/(4*mw**2 *mz**2)) *( (2*s*u) + s**2 - 2*mw**2 *((3*s*u + u**2)/(s+u)) + 2*mz**2 *(s**2 - 3*s*u - 2*u**2)/(s+u) - mz**4/(mw**2))\n",
    "shwartz_Ms.expand().simplify()#.collect((gwwz**2/(4*mw**2 *mz**2)))"
   ]
  },
  {
   "cell_type": "code",
   "execution_count": 36,
   "id": "7f9ee8ff-a72f-4ac8-bd0c-14fc7da67893",
   "metadata": {},
   "outputs": [
    {
     "data": {
      "image/png": "[encoded data removed]",
      "text/latex": [
       "$\\displaystyle - \\frac{0.25 E^{2} gwwz^{2} mz^{2} s}{mw^{4}}$"
      ],
      "text/plain": [
       "       2     2   2   \n",
       "-0.25⋅E ⋅gwwz ⋅mz ⋅s \n",
       "─────────────────────\n",
       "           4         \n",
       "         mw          "
      ]
     },
     "execution_count": 36,
     "metadata": {},
     "output_type": "execute_result"
    }
   ],
   "source": [
    "n=(gwwz**2 *mw**-4 * mz**2 * E**2 * (  - (1/4)*s ))\n",
    "\n",
    "+ (gwwz**2 * mw**-2 * mz**-2 * E**4 * ( (1/2)*s*u + (1/4) * s**2 ))\n",
    "\n",
    "+ (gwwz**2 * mw**-2 * (s+u)**-1 * E**2 * ( s**2 ))\n",
    "\n",
    "+ (gwwz**2 * mw**-2 * E**2 * (  - u - (1/2)*s ))\n",
    "\n",
    "+ (gwwz**2 * mz**-2 * (s+u)**-1 * E**2 * ( s**2 ))\n",
    "\n",
    "+ (gwwz**2 * mz**-2 * E**2 * (  - (1/2)*u - s ))\n",
    "ll = n\n",
    "A = (1/4)*(gwwz**2) / ( mw**2 * mz**2)\n",
    "# p=ll.collect(A)\n",
    "# p\n",
    "b=n.expand()\n",
    "b"
   ]
  },
  {
   "cell_type": "code",
   "execution_count": 58,
   "id": "d094b058-9211-4a5a-b3be-c52636dfcdba",
   "metadata": {},
   "outputs": [
    {
     "data": {
      "image/png": "[encoded data removed]",
      "text/latex": [
       "$\\displaystyle - \\frac{0.25 E^{2} gwwz^{2} mz^{2} u}{mw^{4}}$"
      ],
      "text/plain": [
       "       2     2   2   \n",
       "-0.25⋅E ⋅gwwz ⋅mz ⋅u \n",
       "─────────────────────\n",
       "           4         \n",
       "         mw          "
      ]
     },
     "execution_count": 58,
     "metadata": {},
     "output_type": "execute_result"
    }
   ],
   "source": [
    "Mu = gwwz**2*mw**-4*mz**2*E**2 * (  - 1/4*u )\n",
    "\n",
    "+ gwwz**2*mw**-2*mz**-2*E**4 * ( 1/4*u**2 + 1/2*s*u )\n",
    "\n",
    "+ gwwz**2*mw**-2*(s+u)**-1*E**2 * (  - s**3*u**-1 )\n",
    "\n",
    "+ gwwz**2*mw**-2*E**2 * ( 1/2*u - 2*s + s**2*u**-1 )\n",
    "\n",
    "+ gwwz**2*mz**-2*(s+u)**-1*E**2 * (  - s**3*u**-1 )\n",
    "\n",
    "+ gwwz**2*mz**-2*E**2 * (  - 3/2*s + s**2*u**-1 );\n",
    "\n",
    "                       \n",
    "mu_c=Mu.collect((gwwz**2/(4*mw**2 *mz**2))).replace(\n",
    "mu_c"
   ]
  },
  {
   "cell_type": "code",
   "execution_count": 59,
   "id": "4aed9379-17f6-43e5-bc90-38dbaa37db8f",
   "metadata": {},
   "outputs": [
    {
     "ename": "NameError",
     "evalue": "name 'gwwzz' is not defined",
     "output_type": "error",
     "traceback": [
      "\u001b[0;31m---------------------------------------------------------------------------\u001b[0m",
      "\u001b[0;31mNameError\u001b[0m                                 Traceback (most recent call last)",
      "\u001b[0;32m/tmp/ipykernel_12686/1051627253.py\u001b[0m in \u001b[0;36m<module>\u001b[0;34m\u001b[0m\n\u001b[0;32m----> 1\u001b[0;31m \u001b[0mM4\u001b[0m \u001b[0;34m=\u001b[0m \u001b[0mgwwzz\u001b[0m\u001b[0;34m*\u001b[0m\u001b[0mmw\u001b[0m\u001b[0;34m**\u001b[0m\u001b[0;34m-\u001b[0m\u001b[0;36m2\u001b[0m\u001b[0;34m*\u001b[0m\u001b[0mmz\u001b[0m\u001b[0;34m**\u001b[0m\u001b[0;34m-\u001b[0m\u001b[0;36m2\u001b[0m\u001b[0;34m*\u001b[0m\u001b[0mE\u001b[0m\u001b[0;34m**\u001b[0m\u001b[0;36m4\u001b[0m \u001b[0;34m*\u001b[0m \u001b[0;34m(\u001b[0m  \u001b[0;34m-\u001b[0m \u001b[0;36m1\u001b[0m\u001b[0;34m/\u001b[0m\u001b[0;36m4\u001b[0m\u001b[0;34m*\u001b[0m\u001b[0mu\u001b[0m\u001b[0;34m**\u001b[0m\u001b[0;36m2\u001b[0m \u001b[0;34m-\u001b[0m \u001b[0ms\u001b[0m\u001b[0;34m*\u001b[0m\u001b[0mu\u001b[0m \u001b[0;34m-\u001b[0m \u001b[0;36m1\u001b[0m\u001b[0;34m/\u001b[0m\u001b[0;36m4\u001b[0m\u001b[0;34m*\u001b[0m\u001b[0ms\u001b[0m\u001b[0;34m**\u001b[0m\u001b[0;36m2\u001b[0m \u001b[0;34m)\u001b[0m\u001b[0;34m\u001b[0m\u001b[0;34m\u001b[0m\u001b[0m\n\u001b[0m\u001b[1;32m      2\u001b[0m \u001b[0;34m\u001b[0m\u001b[0m\n\u001b[1;32m      3\u001b[0m \u001b[0;34m+\u001b[0m \u001b[0mgwwzz\u001b[0m\u001b[0;34m*\u001b[0m\u001b[0mmw\u001b[0m\u001b[0;34m**\u001b[0m\u001b[0;34m-\u001b[0m\u001b[0;36m2\u001b[0m\u001b[0;34m*\u001b[0m\u001b[0;34m(\u001b[0m\u001b[0ms\u001b[0m\u001b[0;34m+\u001b[0m\u001b[0mu\u001b[0m\u001b[0;34m)\u001b[0m\u001b[0;34m**\u001b[0m\u001b[0;34m-\u001b[0m\u001b[0;36m1\u001b[0m\u001b[0;34m*\u001b[0m\u001b[0mE\u001b[0m\u001b[0;34m**\u001b[0m\u001b[0;36m2\u001b[0m \u001b[0;34m*\u001b[0m \u001b[0;34m(\u001b[0m  \u001b[0;34m-\u001b[0m \u001b[0;36m2\u001b[0m\u001b[0;34m*\u001b[0m\u001b[0ms\u001b[0m\u001b[0;34m**\u001b[0m\u001b[0;36m2\u001b[0m \u001b[0;34m)\u001b[0m\u001b[0;34m\u001b[0m\u001b[0;34m\u001b[0m\u001b[0m\n\u001b[1;32m      4\u001b[0m \u001b[0;34m\u001b[0m\u001b[0m\n\u001b[1;32m      5\u001b[0m \u001b[0;34m+\u001b[0m \u001b[0mgwwzz\u001b[0m\u001b[0;34m*\u001b[0m\u001b[0mmw\u001b[0m\u001b[0;34m**\u001b[0m\u001b[0;34m-\u001b[0m\u001b[0;36m2\u001b[0m\u001b[0;34m*\u001b[0m\u001b[0mE\u001b[0m\u001b[0;34m**\u001b[0m\u001b[0;36m2\u001b[0m \u001b[0;34m*\u001b[0m \u001b[0;34m(\u001b[0m \u001b[0;36m1\u001b[0m\u001b[0;34m/\u001b[0m\u001b[0;36m2\u001b[0m\u001b[0;34m*\u001b[0m\u001b[0mu\u001b[0m \u001b[0;34m+\u001b[0m \u001b[0;36m5\u001b[0m\u001b[0;34m/\u001b[0m\u001b[0;36m2\u001b[0m\u001b[0;34m*\u001b[0m\u001b[0ms\u001b[0m \u001b[0;34m)\u001b[0m\u001b[0;34m\u001b[0m\u001b[0;34m\u001b[0m\u001b[0m\n",
      "\u001b[0;31mNameError\u001b[0m: name 'gwwzz' is not defined"
     ]
    }
   ],
   "source": [
    "M4 = gwwzz*mw**-2*mz**-2*E**4 * (  - 1/4*u**2 - s*u - 1/4*s**2 )\n",
    "\n",
    "+ gwwzz*mw**-2*(s+u)**-1*E**2 * (  - 2*s**2 )\n",
    "\n",
    "+ gwwzz*mw**-2*E**2 * ( 1/2*u + 5/2*s )\n",
    "\n",
    "+ gwwzz*mz**-2*(s+u)**-1*E**2 * (  - 2*s**2 )\n",
    "\n",
    "+ gwwzz*mz**-2*E**2 * ( 1/2*u + 5/2*s );\n"
   ]
  },
  {
   "cell_type": "code",
   "execution_count": null,
   "id": "9fd8503a-49e9-46bc-b412-7b9368a8128f",
   "metadata": {},
   "outputs": [],
   "source": []
  }
 ],
 "metadata": {
  "kernelspec": {
   "display_name": "Python 3 (ipykernel)",
   "language": "python",
   "name": "python3"
  },
  "language_info": {
   "codemirror_mode": {
    "name": "ipython",
    "version": 3
   },
   "file_extension": ".py",
   "mimetype": "text/x-python",
   "name": "python",
   "nbconvert_exporter": "python",
   "pygments_lexer": "ipython3",
   "version": "3.7.7"
  }
 },
 "nbformat": 4,
 "nbformat_minor": 5
}
